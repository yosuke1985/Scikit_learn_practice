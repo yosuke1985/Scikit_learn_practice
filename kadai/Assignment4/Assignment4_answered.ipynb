{
 "cells": [
  {
   "cell_type": "markdown",
   "metadata": {
    "nbpresent": {
     "id": "b0d37628-d11d-43ca-bd70-44567aebbf41"
    }
   },
   "source": [
    "<H2>課題4: 評判分析</H2>\n",
    "\n",
    "<p>本課題ではAmazonに投稿された映画のレビュー(英語)を分析し、レビューがPositiveかNegativeかの判別を行います。</p>\n",
    "<p>Amazon_reviewファイルにはTraining dataとTest dataが入っています。</p>\n",
    "<p>Training dataを用いて機械学習を行い、その結果を元に6つのTest dataがpositiveかNegativeかを判別してください。</p>\n",
    "<p>6章で学んだ内容を踏まえ、各セルに'#コメント'の内容を実行するコードを記入してください。</p>"
   ]
  },
  {
   "cell_type": "markdown",
   "metadata": {
    "nbpresent": {
     "id": "b14e9b2d-e81d-4c46-aaa5-a21ead865efb"
    }
   },
   "source": [
    "<H2>1. 必要なモジュールの読み込み</H2>"
   ]
  },
  {
   "cell_type": "code",
   "execution_count": 1,
   "metadata": {
    "scrolled": true
   },
   "outputs": [],
   "source": [
    "import collections\n",
    "import numpy as np\n",
    "import numpy as np_amazon\n",
    "\n",
    "from sklearn.feature_extraction import DictVectorizer\n",
    "\n",
    "from sklearn import svm, naive_bayes\n",
    "from sklearn.ensemble import RandomForestClassifier\n",
    "\n",
    "from sklearn.model_selection import GridSearchCV\n",
    "\n",
    "import string\n",
    "from string import punctuation\n",
    "\n",
    "import glob"
   ]
  },
  {
   "cell_type": "markdown",
   "metadata": {},
   "source": [
    "<H2>2. ディレクトリの確認</H2>"
   ]
  },
  {
   "cell_type": "code",
   "execution_count": 2,
   "metadata": {},
   "outputs": [
    {
     "name": "stdout",
     "output_type": "stream",
     "text": [
      "['Assignment4_asnswered.ipynb', '.ipynb_checkpoints', '_DS_Store', 'Amazon_review', 'Assignment4.ipynb']\n"
     ]
    }
   ],
   "source": [
    "# カレントディレクトリの確認\n",
    "import os\n",
    "print( os.listdir(os.path.normpath(\"./\")) )"
   ]
  },
  {
   "cell_type": "code",
   "execution_count": 3,
   "metadata": {
    "scrolled": true
   },
   "outputs": [
    {
     "name": "stdout",
     "output_type": "stream",
     "text": [
      "['Training_data', '_DS_Store', 'Test_data']\n"
     ]
    }
   ],
   "source": [
    "# データディレクトリの確認\n",
    "print( os.listdir(os.path.normpath(\"./Amazon_review/\")) )"
   ]
  },
  {
   "cell_type": "markdown",
   "metadata": {},
   "source": [
    "<H2>3. Dataの読み込み </H2>"
   ]
  },
  {
   "cell_type": "markdown",
   "metadata": {},
   "source": [
    "フォルダ中のテキストへのパスを取得した上で各ファイルを読み込みます。"
   ]
  },
  {
   "cell_type": "code",
   "execution_count": 4,
   "metadata": {},
   "outputs": [
    {
     "name": "stdout",
     "output_type": "stream",
     "text": [
      "Your default locale is None\n",
      "Your locale is set as ja_JP.UTF-8\n"
     ]
    }
   ],
   "source": [
    "# default locale を ja_JP.UTF-8に設定する\n",
    "def set_locale():\n",
    "    default = os.environ.get('LC_ALL')\n",
    "    print( \"Your default locale is\", default )\n",
    "    if default is None:\n",
    "        os.environ.setdefault('LC_ALL', 'ja_JP.UTF-8')\n",
    "        print( \"Your locale is set as ja_JP.UTF-8\" )\n",
    "\n",
    "set_locale()"
   ]
  },
  {
   "cell_type": "code",
   "execution_count": 5,
   "metadata": {},
   "outputs": [],
   "source": [
    "# globでディレクトリを検索し、フォルダ中のテキストのパスを取得 (Training set)\n",
    "\n",
    "DATA_PATH = './Amazon_review/Training_data/'\n",
    "\n",
    "Training_neg_files = glob.glob( os.path.normpath(\"{0}neg/*\".format(DATA_PATH)) )\n",
    "Training_pos_files = glob.glob( os.path.normpath(\"{0}pos/*\".format(DATA_PATH)) )"
   ]
  },
  {
   "cell_type": "code",
   "execution_count": 6,
   "metadata": {},
   "outputs": [
    {
     "name": "stdout",
     "output_type": "stream",
     "text": [
      "['Amazon_review/Training_data/neg/cv266_tok-5311.txt', 'Amazon_review/Training_data/neg/cv032_tok-9567.txt']\n",
      "['Amazon_review/Training_data/pos/cv048_tok-12726.txt', 'Amazon_review/Training_data/pos/cv018_tok-10094.txt']\n"
     ]
    }
   ],
   "source": [
    "# 相対パスで各テキストデータへのパスが格納されていることを確認\n",
    "print(Training_neg_files[0:2])\n",
    "print(Training_pos_files[0:2])"
   ]
  },
  {
   "cell_type": "code",
   "execution_count": 7,
   "metadata": {},
   "outputs": [],
   "source": [
    "# globでディレクトリを検索し、フォルダ中のテキストのパスを取得 (Test set)\n",
    "\n",
    "DATA_PATH = './Amazon_review/Test_data/'\n",
    "\n",
    "Test_neg_files = glob.glob( os.path.normpath(\"{0}neg/*\".format(DATA_PATH)) )\n",
    "Test_pos_files = glob.glob( os.path.normpath(\"{0}pos/*\".format(DATA_PATH)) )"
   ]
  },
  {
   "cell_type": "code",
   "execution_count": 8,
   "metadata": {},
   "outputs": [
    {
     "name": "stdout",
     "output_type": "stream",
     "text": [
      "['Amazon_review/Test_data/neg/amazon_review_10000.txt', 'Amazon_review/Test_data/neg/amazon_review_10002.txt']\n",
      "['Amazon_review/Test_data/pos/amaozn_review_20001.txt', 'Amazon_review/Test_data/pos/amaozn_review_20000.txt']\n"
     ]
    }
   ],
   "source": [
    "# 相対パスで各テキストデータへのパスが格納されていることを確認\n",
    "print(Test_neg_files[0:2])\n",
    "print(Test_pos_files[0:2])"
   ]
  },
  {
   "cell_type": "code",
   "execution_count": 9,
   "metadata": {},
   "outputs": [],
   "source": [
    "#  各ファイルを読み込む関数を定義\n",
    "import sys\n",
    "\n",
    "def text_reader(file_path):\n",
    "    python_version = sys.version_info.major\n",
    "    \n",
    "    if python_version >= 3:\n",
    "        with open(file_path, 'r', encoding='utf-8') as f:\n",
    "            for line in f:\n",
    "                print(line)\n",
    "    else:\n",
    "        with open(file_path, 'r') as f:\n",
    "            for line in f:\n",
    "                print(line)"
   ]
  },
  {
   "cell_type": "code",
   "execution_count": 10,
   "metadata": {},
   "outputs": [
    {
     "name": "stdout",
     "output_type": "stream",
     "text": [
      "The Bad: Disregard for plot points from the lead up movies, including the first Avengers (mentioned, but stripped of all layers). Characters having sudden new and unexplained personalities (bound to happen when they're juggling so damned many!). CGI is a wonderful tool, but when you see Spider-Man's head floating above his CGI body (no he did not get decapitated), it pulls you out of the narrative. The focus of the film was on too many characters who were not relevant to the central plot, maybe the excuse was to have an epic Final Battle scene in Wakanda (SPOILER: Some of those dead characters are needed for a Black Panther sequel, further proving my point).\n",
      "\n",
      "\n",
      "\n",
      "The Ugly: One character death after another, with so many dying that they often skip to the aftermath or just state that Thanos killed them, it really pulls at the heartstrings... Except, as this review title implies, the movie has zero lasting effects. They wasted no time in throwing out all credibility (SPOILER: Thor caused the extinction of the Asgardians), so the rest is just a fun What If? movie focused on committing the Woman In Fridge cliché as many characters as possible.\n"
     ]
    }
   ],
   "source": [
    "# 読み込んだファイルの中身を表示（Test data, Negative, 1ファイル目）\n",
    "text_reader(Test_neg_files[0])"
   ]
  },
  {
   "cell_type": "markdown",
   "metadata": {},
   "source": [
    "<H2> 4.特徴ベクトルの作成</H2>\n",
    "<p>特徴ベクトルの作成に必要な関数を定義した後に特徴ベクトルを作成します。</p>\n",
    "<p>特徴ベクトルはTraining setとTest setで同じ要素を持つ必要がありますので、両方のsetを合わせて作成し、後でTraining setとTest setに分けます。</p>"
   ]
  },
  {
   "cell_type": "code",
   "execution_count": 11,
   "metadata": {},
   "outputs": [],
   "source": [
    "# 各単語の出現回数をカウントする関数を定義\n",
    "def word_counter(string):\n",
    "    words = string.strip().split()\n",
    "    count_dict = collections.Counter(words)\n",
    "    return dict(count_dict)"
   ]
  },
  {
   "cell_type": "code",
   "execution_count": 12,
   "metadata": {},
   "outputs": [],
   "source": [
    "# unigramを作成する関数を定義\n",
    "def get_unigram(file_path):\n",
    "    result = []\n",
    "    python_version = sys.version_info.major\n",
    "    \n",
    "    if python_version >= 3:\n",
    "        for file in file_path:\n",
    "            with open(file, 'r', encoding='utf-8') as f:\n",
    "                text = f.read()\n",
    "                exclude = list(string.punctuation)+[\"“\"]+[\"\\n\"]\n",
    "                text = ''.join(ch for ch in text if ch not in exclude)\n",
    "                \n",
    "                count_dict = word_counter(text)\n",
    "                result.append(count_dict)\n",
    "                \n",
    "    else:\n",
    "        for file in file_path:\n",
    "            with open(file, 'r') as f:\n",
    "                for line in f:\n",
    "                    count_dict = word_counter(line)\n",
    "                    result.append(count_dict)\n",
    "    \n",
    "    return result"
   ]
  },
  {
   "cell_type": "code",
   "execution_count": 13,
   "metadata": {},
   "outputs": [],
   "source": [
    "# Unigramをリストアップ (Training set + Test set)\n",
    "\n",
    "#%%time\n",
    "Training_NUM = 700\n",
    "Test_NUM = 3\n",
    "unigrams_data = get_unigram(Training_neg_files[:Training_NUM]) + get_unigram(Training_pos_files[:Training_NUM]\n",
    "                                                                                     + Test_neg_files[:Test_NUM]) + get_unigram(Test_pos_files[:Test_NUM])\n"
   ]
  },
  {
   "cell_type": "code",
   "execution_count": 14,
   "metadata": {},
   "outputs": [
    {
     "name": "stdout",
     "output_type": "stream",
     "text": [
      "{'actually': 1, 'im': 1, 'fairly': 1, 'sure': 3, 'the': 38, 'experience': 2, 'of': 20, 'having': 3, 'my': 4, 'flesh': 1, 'torn': 1, 'and': 17, 'mutilated': 1, 'by': 2, 'barbed': 1, 'wire': 7, 'would': 2, 'have': 4, 'been': 1, 'more': 5, 'positive': 1, 'than': 5, 'watching': 1, 'this': 5, 'movie': 8, 'baywatch': 1, 'babe': 3, 'pamela': 8, 'anderson': 3, 'lee': 1, 'proves': 1, 'once': 2, 'for': 6, 'all': 3, 'that': 7, 'she': 8, 'should': 1, 'keep': 1, 'her': 15, 'doubleds': 1, 'on': 4, 'small': 1, 'screen': 2, 'at': 3, 'least': 1, 'there': 4, 'you': 5, 'dont': 3, 'to': 14, 'pay': 3, 'see': 2, 'cleavage': 2, 'those': 3, 'viewers': 1, 'out': 4, 'who': 4, 'only': 5, 'lay': 1, 'down': 2, 'money': 2, 'in': 14, 'hopes': 1, 'seeing': 2, 'pam': 3, 'topless': 2, 'hate': 1, 'burst': 1, 'your': 1, 'bubble': 1, 'but': 7, 'are': 2, 'no': 2, 'fullfledged': 1, 'nude': 3, 'scenes': 4, 'barb': 6, 'wouldnt': 2, 'be': 3, 'reading': 1, 'review': 1, 'right': 2, 'now': 1, 'if': 6, 'i': 9, 'had': 1, 'known': 1, 'fact': 2, 'going': 3, 'cant': 2, 'go': 1, 'back': 1, 'time': 1, 'reverse': 1, 'mistake': 1, 'can': 1, 'warn': 1, 'other': 1, 'horny': 1, 'teenage': 1, 'boys': 1, 'they': 3, 'do': 2, 'tease': 3, 'us': 2, 'a': 26, 'few': 1, 'times': 2, 'with': 1, 'where': 1, 'almost': 1, 'is': 13, 'its': 7, 'so': 1, 'quick': 1, 'even': 4, 'tell': 2, 'whether': 1, 'youre': 1, 'andersons': 1, 'or': 3, 'not': 2, 'nipple': 1, 'hallucination': 1, 'sort': 1, 'thing': 1, 'was': 2, 'adapted': 1, 'from': 1, 'comic': 2, 'book': 2, 'interesting': 1, 'because': 2, 'probably': 2, 'woman': 4, 'looks': 1, 'like': 4, 'character': 2, 'real': 1, 'life': 2, 'wearing': 1, 'lowcut': 1, 'leather': 1, 'office': 1, 'work': 1, 'businesswoman': 1, 'bondage': 1, 'wear': 1, 'unreal': 1, 'body': 1, 'proportions': 1, 'yes': 1, 'mona': 1, 'lisa': 1, 'manmade': 1, 'beauty': 2, 'senses': 1, 'one': 4, 'definite': 1, 'though': 1, 'looking': 1, 'never': 3, 'an': 3, 'unpleasant': 1, 'youd': 1, 'just': 2, 'think': 3, 'began': 1, 'career': 1, 'as': 4, 'playboy': 1, 'playmate': 1, 'any': 2, 'reservations': 1, 'about': 3, 'appearing': 1, 'obvious': 1, 'wasnt': 1, 'pulling': 1, 'sharon': 1, 'stone': 1, 'trying': 1, 'make': 1, 'people': 1, 'attention': 1, 'acting': 1, 'skills': 1, 'mean': 1, 'shows': 1, 'off': 1, 'here': 1, 'jewelers': 1, 'convention': 1, 'set': 1, 'year': 4, '2017': 1, 'worst': 2, 'says': 1, 'say': 1, 'america': 1, 'through': 2, 'second': 1, 'civil': 1, 'war': 1, 'nightclub': 1, 'owner': 1, 'free': 2, 'city': 1, 'nation': 1, 'silicone': 1, 'valley': 1, 'also': 1, 'hires': 1, 'herself': 1, 'bounty': 1, 'hunter': 1, 'when': 1, 'price': 1, 'posing': 1, 'first': 1, 'stripper': 1, 'later': 1, 'prostitute': 1, 'call': 1, 'hates': 1, 'reminds': 2, 'way': 1, 'too': 1, 'many': 1, 'imagine': 1, 'does': 1, 'trapeze': 1, 'strip': 2, 'bar': 1, 'while': 2, 'hose': 1, 'sprayed': 1, 'being': 1, 'referred': 1, 'such': 2, 'sexist': 1, 'demeaning': 1, 'term': 1, 'liberated': 1, 'shouldnt': 1, 'hear': 1, 'words': 4, 'during': 1, 'especially': 1, 'since': 1, 'talking': 1, 'pig': 1, 'success': 1, 'plot': 1, 'haha': 1, 'revolves': 1, 'around': 1, 'pair': 1, 'contact': 1, 'lenses': 1, 'allow': 1, 'their': 2, 'wearer': 1, 'pass': 1, 'congressional': 2, 'directorates': 1, 'retina': 1, 'scanners': 1, 'characters': 1, 'theyre': 1, 'meets': 1, 'eye': 1, 'me': 1, 'transformers': 1, 'cartoon': 1, 'wished': 1, 'could': 2, 'somehow': 2, 'transformed': 1, 'into': 1, 'something': 1, 'decent': 1, 'happened': 1, 'continued': 1, 'path': 1, 'lame': 1, 'action': 3, 'starring': 1, 'vandamme': 1, 'bigbusted': 1, 'kickboxer': 1, 'resistance': 1, 'accomplices': 1, 'exboyfriend': 1, 'axel': 1, 'tamuera': 1, 'morrison': 1, 'cora': 2, 'victoria': 1, 'rowell': 1, 'thank': 1, 'god': 1, 'didnt': 2, 'name': 2, 'reef': 1, 'bad': 2, 'enough': 1, 'originally': 1, 'doesnt': 1, 'take': 1, 'sides': 1, 'giving': 1, 'some': 1, 'speech': 1, 'shes': 1, 'loyal': 1, 'changes': 1, 'mind': 1, 'bastards': 1, 'kill': 1, 'blind': 1, 'brother': 1, 'jack': 1, 'noseworthy': 2, 'bon': 1, 'jovi': 1, 'always': 1, 'video': 1, 'fame': 1, 'still': 1, 'know': 2, 'step': 2, 'up': 4, 'he': 2, 'definitely': 1, 'nose': 1, 'worthy': 2, 'isnt': 1, 'sponge': 1, 'gets': 1, 'ready': 1, 'avenge': 1, 'his': 1, 'death': 2, 'grabbing': 1, 'armful': 1, 'semiautomatic': 1, 'weapons': 1, 'strapping': 1, 'ammunitions': 1, 'belt': 1, 'chest': 1, 'rambo': 1, 'bimbo': 1, 'mark': 1, 'will': 1, 'over': 2, 'cinemax': 1, 'network': 1, 'got': 2, 'elements': 2, 'directtovideo': 1, 'releases': 1, 'featured': 1, 'hbos': 1, 'bastard': 1, 'cousin': 1, 'cable': 1, 'channel': 1, 'id': 1, 'watch': 1, 'it': 2, 'come': 1, 'nontitillating': 1, 'voyeurism': 1, 'laughable': 1, 'flashbacks': 1, 'dialogue': 1, 'cliches': 1, 'wazzoo': 1, 'theres': 1, 'narrator': 1, 'beginning': 1, 'setting': 1, 'movies': 2, 'premise': 1, 'scroll': 1, 'someone': 1, 'needs': 1, 'wookie': 1, 'aint': 1, 'star': 1, 'wars': 1, 'youve': 1, 'seen': 1, 'flick': 1, 'past': 1, 'fifteen': 1, 'years': 1, 'youll': 1, 'recognize': 1, 'plenty': 1, 'lifted': 1, 'has': 2, 'obligatory': 1, 'trucks': 1, 'flipping': 1, 'car': 1, 'crashes': 1, 'explosions': 1, 'broken': 1, 'glass': 1, 'slowmotion': 1, 'shots': 1, 'bodies': 1, 'falling': 1, 'hundreds': 1, 'feet': 1, 'automaticpilot': 1, 'anyone': 1, 'write': 1, 'direct': 1, 'two': 2, 'things': 2, 'what': 1}\n",
      "data size : 0.011312 [MB]\n"
     ]
    }
   ],
   "source": [
    "# Unigramの内容を確認 (Training set)\n",
    "print(unigrams_data[0] )\n",
    "print(\"data size :\", sys.getsizeof(unigrams_data) / 1000000, \"[MB]\" )"
   ]
  },
  {
   "cell_type": "code",
   "execution_count": 15,
   "metadata": {},
   "outputs": [],
   "source": [
    "# DictVectorizerを用いてUnigramを行列の形に変形　（各行が1つのレビュー、各列が単語、要素がその単語の出現数）\n",
    "\n",
    "#%%time\n",
    "vec = DictVectorizer()\n",
    "\n",
    "feature_vectors_csr = vec.fit_transform(unigrams_data)"
   ]
  },
  {
   "cell_type": "code",
   "execution_count": 16,
   "metadata": {},
   "outputs": [
    {
     "data": {
      "text/plain": [
       "<1406x41984 sparse matrix of type '<class 'numpy.float64'>'\n",
       "\twith 483402 stored elements in Compressed Sparse Row format>"
      ]
     },
     "execution_count": 16,
     "metadata": {},
     "output_type": "execute_result"
    }
   ],
   "source": [
    "# 作成したデータを確認\n",
    "feature_vectors_csr"
   ]
  },
  {
   "cell_type": "markdown",
   "metadata": {},
   "source": [
    "## 5.ラベルデータの作成"
   ]
  },
  {
   "cell_type": "markdown",
   "metadata": {},
   "source": [
    "今回扱うデータセットは全てに negative, positive というラベルが振られています。<br>\n",
    "ここではそのラベルを negative → 0, positive → 1 とすることで二値判別問題のセットアップを構築します。<br>\n",
    "ラベルも特徴ベクトルと同様にTraining setとTest setを合わせて作成し、後でTraining setとTest　setに分けます。"
   ]
  },
  {
   "cell_type": "code",
   "execution_count": 17,
   "metadata": {},
   "outputs": [],
   "source": [
    "# ラベルデータの作成\n",
    "labels = np.r_[np.tile(0, Training_NUM), np.tile(1, Training_NUM), np.tile(0, Test_NUM), np.tile(1, Test_NUM)]"
   ]
  },
  {
   "cell_type": "code",
   "execution_count": 18,
   "metadata": {},
   "outputs": [
    {
     "name": "stdout",
     "output_type": "stream",
     "text": [
      "0 0 1 1 0 0 1 1\n"
     ]
    }
   ],
   "source": [
    "#正しい位置で0と1の振替がなされているか確認 (Training setの0と1、Test setの0と1)\n",
    "print( labels[0], labels[Training_NUM-1], labels[Training_NUM], labels[2*Training_NUM-1],\n",
    "      labels[2*Training_NUM], labels[2*Training_NUM+Test_NUM-1], labels[2*Training_NUM+Test_NUM], labels[2*Training_NUM+2*Test_NUM-1])"
   ]
  },
  {
   "cell_type": "markdown",
   "metadata": {},
   "source": [
    "<H2> 6. 学習用データと学習評価用データの作成</H2>\n",
    "<p>今回はTree fold cross validationを行いますので、まずTraining setを3分割します。</p>"
   ]
  },
  {
   "cell_type": "code",
   "execution_count": 19,
   "metadata": {},
   "outputs": [],
   "source": [
    "# 今回はThree fold cross validation でモデルを評価\n",
    "N_FOLDS = 3"
   ]
  },
  {
   "cell_type": "code",
   "execution_count": 20,
   "metadata": {},
   "outputs": [],
   "source": [
    "# seedを固定し、乱数を1400個作成\n",
    "np.random.seed(7789)\n",
    "\n",
    "shuffle_order = np.random.choice( 2*Training_NUM, 2*Training_NUM, replace=False )"
   ]
  },
  {
   "cell_type": "code",
   "execution_count": 21,
   "metadata": {},
   "outputs": [
    {
     "name": "stdout",
     "output_type": "stream",
     "text": [
      "length : 1400\n",
      "first 10 elements : [1235 1232  910  162  343 1160  221  545 1112 1322]\n"
     ]
    }
   ],
   "source": [
    "#生成した乱数の中身を確認\n",
    "print( \"length :\", len(shuffle_order) )\n",
    "print( \"first 10 elements :\", shuffle_order[0:10] )"
   ]
  },
  {
   "cell_type": "code",
   "execution_count": 22,
   "metadata": {},
   "outputs": [
    {
     "name": "stdout",
     "output_type": "stream",
     "text": [
      "one third of the length : 466\n",
      "# of '0(Positive)' in 1st set : 239\n",
      "# of '0(Positive)' in 2nd set : 233\n",
      "# of '0(Positive)' in 3rd set : 226\n",
      "# of '1(Negative)' in 1st set : 227\n",
      "# of '1(Negative)' in 2nd set : 233\n",
      "# of '1(Negative)' in 3rd set : 240\n"
     ]
    }
   ],
   "source": [
    "#作成した乱数を元にTraining setを3分割する\n",
    "one_third_size = int( 2*Training_NUM / 3. )\n",
    "print( \"one third of the length :\", one_third_size )\n",
    "\n",
    "print( \"# of '0(Positive)' in 1st set :\", one_third_size - np.sum( labels[ shuffle_order[:one_third_size] ]  ) )\n",
    "print( \"# of '0(Positive)' in 2nd set :\", one_third_size - np.sum( labels[ shuffle_order[one_third_size:2*one_third_size] ]  ) )\n",
    "print( \"# of '0(Positive)' in 3rd set :\", one_third_size - np.sum( labels[ shuffle_order[2*one_third_size:] ]  ) )\n",
    "print( \"# of '1(Negative)' in 1st set :\", np.sum( labels[ shuffle_order[:one_third_size] ]  ) )\n",
    "print( \"# of '1(Negative)' in 2nd set :\", np.sum( labels[ shuffle_order[one_third_size:2*one_third_size] ]  ) )\n",
    "print( \"# of '1(Negative)' in 3rd set :\", np.sum( labels[ shuffle_order[2*one_third_size:] ]  ) )"
   ]
  },
  {
   "cell_type": "markdown",
   "metadata": {},
   "source": [
    "## 7. 学習に必要な関数の設定"
   ]
  },
  {
   "cell_type": "markdown",
   "metadata": {},
   "source": [
    "1. 与えられたリストをN分割する関数<br>"
   ]
  },
  {
   "cell_type": "code",
   "execution_count": 23,
   "metadata": {},
   "outputs": [],
   "source": [
    "# 与えられたリストをN分割する関数を定義\n",
    "def N_splitter(seq, N):\n",
    "    avg = len(seq) / float(N)\n",
    "    out = []\n",
    "    last = 0.0\n",
    "    \n",
    "    while last < len(seq):\n",
    "        out.append( seq[int(last):int(last + avg)] )\n",
    "        last += avg\n",
    "        \n",
    "    return np.array(out)"
   ]
  },
  {
   "cell_type": "code",
   "execution_count": 24,
   "metadata": {
    "scrolled": true
   },
   "outputs": [
    {
     "data": {
      "text/plain": [
       "array([range(0, 4), range(4, 9), range(9, 14)], dtype=object)"
      ]
     },
     "execution_count": 24,
     "metadata": {},
     "output_type": "execute_result"
    }
   ],
   "source": [
    "# 動作を確認\n",
    "N_splitter(range(14), 3)"
   ]
  },
  {
   "cell_type": "markdown",
   "metadata": {},
   "source": [
    "<p>2. train_model : 説明変数とラベルと手法を与えることでモデルを学習する</p>"
   ]
  },
  {
   "cell_type": "code",
   "execution_count": 25,
   "metadata": {},
   "outputs": [],
   "source": [
    "# train_model \n",
    "def train_model(features, labels, method='SVM', parameters=None):\n",
    "    ### set the model\n",
    "    if method == 'SVM':\n",
    "        model = svm.SVC()\n",
    "    elif method == 'NB':\n",
    "        model = naive_bayes.GaussianNB()\n",
    "    elif method == 'RF':\n",
    "        model = RandomForestClassifier()\n",
    "    else:\n",
    "        print(\"Set method as SVM (for Support vector machine), NB (for Naive Bayes) or RF (Random Forest)\")\n",
    "    ### set parameters if exists\n",
    "    if parameters:\n",
    "        model.set_params(**parameters)\n",
    "    ### train the model\n",
    "    model.fit( features, labels )\n",
    "    ### return the trained model\n",
    "    return model"
   ]
  },
  {
   "cell_type": "markdown",
   "metadata": {},
   "source": [
    "<p>3. predict : モデルと説明変数を与えることでラベルを予測する</p>"
   ]
  },
  {
   "cell_type": "code",
   "execution_count": 26,
   "metadata": {},
   "outputs": [],
   "source": [
    "# predict \n",
    "def predict(model, features):\n",
    "    predictions = model.predict( features )\n",
    "    return predictions"
   ]
  },
  {
   "cell_type": "markdown",
   "metadata": {},
   "source": [
    "<p>4. evaluate_model : 予測したラベルと実際の答えの合致数を調べる"
   ]
  },
  {
   "cell_type": "code",
   "execution_count": 27,
   "metadata": {},
   "outputs": [],
   "source": [
    "#evaluate_model \n",
    "def evaluate_model(predictions, labels):\n",
    "    data_num = len(labels)\n",
    "    correct_num = np.sum( predictions == labels )\n",
    "    return data_num, correct_num"
   ]
  },
  {
   "cell_type": "markdown",
   "metadata": {},
   "source": [
    "<p> 5. cross_validate : cross_validationを実行する </p>"
   ]
  },
  {
   "cell_type": "code",
   "execution_count": 28,
   "metadata": {},
   "outputs": [],
   "source": [
    "# cross_validate\n",
    "def cross_validate(n_folds, feature_vectors, labels, shuffle_order, method='SVM', parameters=None):\n",
    "    result_test_num = []\n",
    "    result_correct_num = []\n",
    "    \n",
    "    n_splits = N_splitter( range(2*Training_NUM), n_folds )\n",
    "\n",
    "    for i in range(n_folds):\n",
    "        print( \"Executing {0}th set...\".format(i+1) )\n",
    "        \n",
    "        test_elems = shuffle_order[ n_splits[i] ]\n",
    "        train_elems = np.array([])\n",
    "        train_set = n_splits[ np.arange(n_folds) !=i ]\n",
    "        for j in train_set:\n",
    "            train_elems = np.r_[ train_elems, shuffle_order[j] ]\n",
    "        train_elems = train_elems.astype(np.integer)\n",
    "\n",
    "        # train\n",
    "        model = train_model( feature_vectors[train_elems], labels[train_elems], method, parameters )\n",
    "        # predict\n",
    "        predictions = predict( model, feature_vectors[test_elems] )\n",
    "        # evaluate\n",
    "        test_num, correct_num = evaluate_model( predictions, labels[test_elems] )\n",
    "        result_test_num.append( test_num )\n",
    "        result_correct_num.append( correct_num )\n",
    "    \n",
    "    return result_test_num, result_correct_num"
   ]
  },
  {
   "cell_type": "markdown",
   "metadata": {},
   "source": [
    "## 8. 学習の実施、精度の検証"
   ]
  },
  {
   "cell_type": "code",
   "execution_count": 29,
   "metadata": {},
   "outputs": [],
   "source": [
    "# Trainingを実施\n",
    "\n",
    "#%%time\n",
    "\n",
    "svm_model = train_model(\n",
    "    features=feature_vectors_csr[shuffle_order[0:950],:]\n",
    "    , labels=labels[shuffle_order[0:950]]\n",
    "    , method='SVM'\n",
    "    , parameters=None\n",
    ")"
   ]
  },
  {
   "cell_type": "code",
   "execution_count": 30,
   "metadata": {},
   "outputs": [
    {
     "name": "stdout",
     "output_type": "stream",
     "text": [
      "data :  [ 490 1276  794  892  504  463   48  289 1218 1137]\n",
      "correct label :  [0 1 1 1 0 0 0 0 1 1]\n",
      "predict label :  [0 1 0 0 0 0 0 0 1 1]\n"
     ]
    }
   ],
   "source": [
    "# 結果を表示\n",
    "print(\"data : \" ,shuffle_order[970:980])\n",
    "print(\"correct label : \", labels[shuffle_order[970:980]])\n",
    "print(\"predict label : \", predict(svm_model, feature_vectors_csr[shuffle_order[970:980], :])  )"
   ]
  },
  {
   "cell_type": "markdown",
   "metadata": {},
   "source": [
    "## 9. パラメータのチューニング"
   ]
  },
  {
   "cell_type": "code",
   "execution_count": 31,
   "metadata": {},
   "outputs": [
    {
     "data": {
      "text/plain": [
       "GridSearchCV(cv=None, error_score='raise',\n",
       "       estimator=SVC(C=1.0, cache_size=200, class_weight=None, coef0=0.0,\n",
       "  decision_function_shape='ovr', degree=3, gamma='auto', kernel='rbf',\n",
       "  max_iter=-1, probability=False, random_state=None, shrinking=True,\n",
       "  tol=0.001, verbose=False),\n",
       "       fit_params=None, iid=True, n_jobs=1,\n",
       "       param_grid=[{'kernel': ['rbf'], 'gamma': [0.01, 0.001, 0.0001], 'C': [0.1, 1, 10, 100, 1000]}, {'kernel': ['linear'], 'C': [0.1, 1, 10, 100, 1000]}],\n",
       "       pre_dispatch='2*n_jobs', refit=True, return_train_score='warn',\n",
       "       scoring=None, verbose=0)"
      ]
     },
     "execution_count": 31,
     "metadata": {},
     "output_type": "execute_result"
    }
   ],
   "source": [
    "#パラメータをチューニング（どのような形でも構いません）\n",
    "#%%time\n",
    "\n",
    "search_parameters = [\n",
    "    {'kernel': ['rbf'], 'gamma': [1e-2, 1e-3, 1e-4], 'C': [0.1, 1, 10, 100, 1000]},\n",
    "    {'kernel': ['linear'], 'C': [0.1, 1, 10, 100, 1000]}\n",
    "]\n",
    "\n",
    "model = svm.SVC()\n",
    "clf = GridSearchCV(model, search_parameters)\n",
    "clf.fit(feature_vectors_csr[0:1400], labels[0:1400] )"
   ]
  },
  {
   "cell_type": "code",
   "execution_count": 32,
   "metadata": {},
   "outputs": [
    {
     "name": "stdout",
     "output_type": "stream",
     "text": [
      "best paremters :  {'C': 1000, 'gamma': 0.0001, 'kernel': 'rbf'}\n",
      "best scores :  0.7914285714285715\n"
     ]
    }
   ],
   "source": [
    "# 結果を表示\n",
    "print(\"best paremters : \", clf.best_params_)\n",
    "print(\"best scores : \", clf.best_score_)"
   ]
  },
  {
   "cell_type": "code",
   "execution_count": 33,
   "metadata": {},
   "outputs": [
    {
     "name": "stdout",
     "output_type": "stream",
     "text": [
      "Executing 1th set...\n",
      "Executing 2th set...\n",
      "Executing 3th set...\n"
     ]
    }
   ],
   "source": [
    "# チューニング後のパラメータで学習\n",
    "\n",
    "#%%time\n",
    "ans, corr = cross_validate(N_FOLDS, feature_vectors_csr[0:1400], labels[0:1400], shuffle_order, method='SVM', parameters=clf.best_params_)"
   ]
  },
  {
   "cell_type": "code",
   "execution_count": 34,
   "metadata": {},
   "outputs": [
    {
     "name": "stdout",
     "output_type": "stream",
     "text": [
      "average precision :  78.3 %\n"
     ]
    }
   ],
   "source": [
    "# 結果を表示\n",
    "print( \"average precision : \", np.around( 100.*sum(corr)/sum(ans), decimals=1 ), \"%\" )"
   ]
  },
  {
   "cell_type": "markdown",
   "metadata": {},
   "source": [
    "## 10. Test dataを用いてモデルを評価"
   ]
  },
  {
   "cell_type": "code",
   "execution_count": 35,
   "metadata": {},
   "outputs": [],
   "source": [
    "# 上記で作成したモデルを用いてTest dataの評価を実施\n",
    "# %%time\n",
    "\n",
    "svm_model = train_model(\n",
    "    features=feature_vectors_csr[1400:1406]\n",
    "    , labels=labels[1400:1406]\n",
    "    , method='SVM'\n",
    "    , parameters=None\n",
    ")"
   ]
  },
  {
   "cell_type": "code",
   "execution_count": 36,
   "metadata": {},
   "outputs": [
    {
     "name": "stdout",
     "output_type": "stream",
     "text": [
      "correct label :  [0 0 0 1 1 1]\n",
      "predict label :  [0 0 0 1 1 1]\n"
     ]
    }
   ],
   "source": [
    "# 結果を表示\n",
    "print(\"correct label : \", labels[1400:1406])\n",
    "print( \"predict label : \", predict(svm_model, feature_vectors_csr[1400:1406]) )"
   ]
  },
  {
   "cell_type": "code",
   "execution_count": null,
   "metadata": {},
   "outputs": [],
   "source": []
  }
 ],
 "metadata": {
  "anaconda-cloud": {},
  "kernelspec": {
   "display_name": "Python 3",
   "language": "python",
   "name": "python3"
  },
  "language_info": {
   "codemirror_mode": {
    "name": "ipython",
    "version": 3
   },
   "file_extension": ".py",
   "mimetype": "text/x-python",
   "name": "python",
   "nbconvert_exporter": "python",
   "pygments_lexer": "ipython3",
   "version": "3.6.5"
  },
  "nbpresent": {
   "slides": {},
   "themes": {}
  }
 },
 "nbformat": 4,
 "nbformat_minor": 1
}
