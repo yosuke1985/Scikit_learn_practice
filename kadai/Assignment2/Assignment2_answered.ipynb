{
 "cells": [
  {
   "cell_type": "markdown",
   "metadata": {},
   "source": [
    "<H2>課題2: 予測モデルの作成</H2>\n",
    "<p>本課題では課題1と同じデータを用いてデータ分析の流れを確認します。</p>\n",
    "<p>2章で学んだ内容を踏まえ、各セルに入っているコメントを実行するコードを記入してください。</p>"
   ]
  },
  {
   "cell_type": "markdown",
   "metadata": {},
   "source": [
    "<H2>1. 必要なモジュールを読み込む</H2>"
   ]
  },
  {
   "cell_type": "code",
   "execution_count": 1,
   "metadata": {
    "scrolled": true
   },
   "outputs": [],
   "source": [
    "% matplotlib inline\n",
    "\n",
    "from __future__ import print_function\n",
    "\n",
    "import copy\n",
    "\n",
    "import matplotlib\n",
    "import matplotlib.pyplot as plt\n",
    "import numpy as np\n",
    "import pandas as pd\n",
    "\n",
    "matplotlib.style.use('ggplot')\n",
    "\n",
    "from sklearn.linear_model import LinearRegression\n",
    "from sklearn.tree import DecisionTreeRegressor\n",
    "from sklearn.ensemble import RandomForestRegressor\n",
    "\n",
    "from sklearn.model_selection import GridSearchCV\n",
    "from sklearn.model_selection import train_test_split\n",
    "from sklearn.metrics import mean_squared_error"
   ]
  },
  {
   "cell_type": "markdown",
   "metadata": {},
   "source": [
    "<H2>2. データの読み込み</H2>\n",
    "<p> pandasにはread_csvという関数が用意されており、それを用いれば簡単にCSVファイルを読み込むことができます</p>\n",
    "<p>データはdatasetフォルダ直下にある\"kaggle_housing_price.csv\"を使用します。</p>"
   ]
  },
  {
   "cell_type": "code",
   "execution_count": 2,
   "metadata": {},
   "outputs": [],
   "source": [
    "# データ読み込み\n",
    "dataset = pd.read_csv('kaggle_housing_price.csv')"
   ]
  },
  {
   "cell_type": "code",
   "execution_count": 3,
   "metadata": {},
   "outputs": [
    {
     "data": {
      "text/html": [
       "<div>\n",
       "<style scoped>\n",
       "    .dataframe tbody tr th:only-of-type {\n",
       "        vertical-align: middle;\n",
       "    }\n",
       "\n",
       "    .dataframe tbody tr th {\n",
       "        vertical-align: top;\n",
       "    }\n",
       "\n",
       "    .dataframe thead th {\n",
       "        text-align: right;\n",
       "    }\n",
       "</style>\n",
       "<table border=\"1\" class=\"dataframe\">\n",
       "  <thead>\n",
       "    <tr style=\"text-align: right;\">\n",
       "      <th></th>\n",
       "      <th>Id</th>\n",
       "      <th>MSSubClass</th>\n",
       "      <th>MSZoning</th>\n",
       "      <th>LotFrontage</th>\n",
       "      <th>LotArea</th>\n",
       "      <th>Street</th>\n",
       "      <th>Alley</th>\n",
       "      <th>LotShape</th>\n",
       "      <th>LandContour</th>\n",
       "      <th>Utilities</th>\n",
       "      <th>...</th>\n",
       "      <th>PoolArea</th>\n",
       "      <th>PoolQC</th>\n",
       "      <th>Fence</th>\n",
       "      <th>MiscFeature</th>\n",
       "      <th>MiscVal</th>\n",
       "      <th>MoSold</th>\n",
       "      <th>YrSold</th>\n",
       "      <th>SaleType</th>\n",
       "      <th>SaleCondition</th>\n",
       "      <th>SalePrice</th>\n",
       "    </tr>\n",
       "  </thead>\n",
       "  <tbody>\n",
       "    <tr>\n",
       "      <th>0</th>\n",
       "      <td>1</td>\n",
       "      <td>60</td>\n",
       "      <td>RL</td>\n",
       "      <td>65.0</td>\n",
       "      <td>8450</td>\n",
       "      <td>Pave</td>\n",
       "      <td>NaN</td>\n",
       "      <td>Reg</td>\n",
       "      <td>Lvl</td>\n",
       "      <td>AllPub</td>\n",
       "      <td>...</td>\n",
       "      <td>0</td>\n",
       "      <td>NaN</td>\n",
       "      <td>NaN</td>\n",
       "      <td>NaN</td>\n",
       "      <td>0</td>\n",
       "      <td>2</td>\n",
       "      <td>2008</td>\n",
       "      <td>WD</td>\n",
       "      <td>Normal</td>\n",
       "      <td>208500</td>\n",
       "    </tr>\n",
       "    <tr>\n",
       "      <th>1</th>\n",
       "      <td>2</td>\n",
       "      <td>20</td>\n",
       "      <td>RL</td>\n",
       "      <td>80.0</td>\n",
       "      <td>9600</td>\n",
       "      <td>Pave</td>\n",
       "      <td>NaN</td>\n",
       "      <td>Reg</td>\n",
       "      <td>Lvl</td>\n",
       "      <td>AllPub</td>\n",
       "      <td>...</td>\n",
       "      <td>0</td>\n",
       "      <td>NaN</td>\n",
       "      <td>NaN</td>\n",
       "      <td>NaN</td>\n",
       "      <td>0</td>\n",
       "      <td>5</td>\n",
       "      <td>2007</td>\n",
       "      <td>WD</td>\n",
       "      <td>Normal</td>\n",
       "      <td>181500</td>\n",
       "    </tr>\n",
       "    <tr>\n",
       "      <th>2</th>\n",
       "      <td>3</td>\n",
       "      <td>60</td>\n",
       "      <td>RL</td>\n",
       "      <td>68.0</td>\n",
       "      <td>11250</td>\n",
       "      <td>Pave</td>\n",
       "      <td>NaN</td>\n",
       "      <td>IR1</td>\n",
       "      <td>Lvl</td>\n",
       "      <td>AllPub</td>\n",
       "      <td>...</td>\n",
       "      <td>0</td>\n",
       "      <td>NaN</td>\n",
       "      <td>NaN</td>\n",
       "      <td>NaN</td>\n",
       "      <td>0</td>\n",
       "      <td>9</td>\n",
       "      <td>2008</td>\n",
       "      <td>WD</td>\n",
       "      <td>Normal</td>\n",
       "      <td>223500</td>\n",
       "    </tr>\n",
       "    <tr>\n",
       "      <th>3</th>\n",
       "      <td>4</td>\n",
       "      <td>70</td>\n",
       "      <td>RL</td>\n",
       "      <td>60.0</td>\n",
       "      <td>9550</td>\n",
       "      <td>Pave</td>\n",
       "      <td>NaN</td>\n",
       "      <td>IR1</td>\n",
       "      <td>Lvl</td>\n",
       "      <td>AllPub</td>\n",
       "      <td>...</td>\n",
       "      <td>0</td>\n",
       "      <td>NaN</td>\n",
       "      <td>NaN</td>\n",
       "      <td>NaN</td>\n",
       "      <td>0</td>\n",
       "      <td>2</td>\n",
       "      <td>2006</td>\n",
       "      <td>WD</td>\n",
       "      <td>Abnorml</td>\n",
       "      <td>140000</td>\n",
       "    </tr>\n",
       "    <tr>\n",
       "      <th>4</th>\n",
       "      <td>5</td>\n",
       "      <td>60</td>\n",
       "      <td>RL</td>\n",
       "      <td>84.0</td>\n",
       "      <td>14260</td>\n",
       "      <td>Pave</td>\n",
       "      <td>NaN</td>\n",
       "      <td>IR1</td>\n",
       "      <td>Lvl</td>\n",
       "      <td>AllPub</td>\n",
       "      <td>...</td>\n",
       "      <td>0</td>\n",
       "      <td>NaN</td>\n",
       "      <td>NaN</td>\n",
       "      <td>NaN</td>\n",
       "      <td>0</td>\n",
       "      <td>12</td>\n",
       "      <td>2008</td>\n",
       "      <td>WD</td>\n",
       "      <td>Normal</td>\n",
       "      <td>250000</td>\n",
       "    </tr>\n",
       "  </tbody>\n",
       "</table>\n",
       "<p>5 rows × 81 columns</p>\n",
       "</div>"
      ],
      "text/plain": [
       "   Id  MSSubClass MSZoning  LotFrontage  LotArea Street Alley LotShape  \\\n",
       "0   1          60       RL         65.0     8450   Pave   NaN      Reg   \n",
       "1   2          20       RL         80.0     9600   Pave   NaN      Reg   \n",
       "2   3          60       RL         68.0    11250   Pave   NaN      IR1   \n",
       "3   4          70       RL         60.0     9550   Pave   NaN      IR1   \n",
       "4   5          60       RL         84.0    14260   Pave   NaN      IR1   \n",
       "\n",
       "  LandContour Utilities    ...     PoolArea PoolQC Fence MiscFeature MiscVal  \\\n",
       "0         Lvl    AllPub    ...            0    NaN   NaN         NaN       0   \n",
       "1         Lvl    AllPub    ...            0    NaN   NaN         NaN       0   \n",
       "2         Lvl    AllPub    ...            0    NaN   NaN         NaN       0   \n",
       "3         Lvl    AllPub    ...            0    NaN   NaN         NaN       0   \n",
       "4         Lvl    AllPub    ...            0    NaN   NaN         NaN       0   \n",
       "\n",
       "  MoSold YrSold  SaleType  SaleCondition  SalePrice  \n",
       "0      2   2008        WD         Normal     208500  \n",
       "1      5   2007        WD         Normal     181500  \n",
       "2      9   2008        WD         Normal     223500  \n",
       "3      2   2006        WD        Abnorml     140000  \n",
       "4     12   2008        WD         Normal     250000  \n",
       "\n",
       "[5 rows x 81 columns]"
      ]
     },
     "execution_count": 3,
     "metadata": {},
     "output_type": "execute_result"
    }
   ],
   "source": [
    "# データを最初の5行だけ表示\n",
    "dataset.head()"
   ]
  },
  {
   "cell_type": "markdown",
   "metadata": {},
   "source": [
    "<h2>3. データの前処理</h2>"
   ]
  },
  {
   "cell_type": "code",
   "execution_count": 4,
   "metadata": {},
   "outputs": [],
   "source": [
    "# 今回の解析では下記の列を使用することとします\n",
    "target_col = 'SalePrice'\n",
    "feature_cols = ['LotArea', 'OverallQual', 'OverallCond', 'YearBuilt', 'BsmtFinSF1', 'BsmtFinSF2', 'BsmtUnfSF',\n",
    "               'TotalBsmtSF', '1stFlrSF', '2ndFlrSF', 'GrLivArea', 'BsmtFullBath', 'BsmtHalfBath', 'FullBath', 'HalfBath',\n",
    "                'BedroomAbvGr', 'KitchenAbvGr', 'GarageCars']"
   ]
  },
  {
   "cell_type": "code",
   "execution_count": 5,
   "metadata": {},
   "outputs": [],
   "source": [
    "# target_colとfeature_colsをarrayにして、それぞれをY、Xとする\n",
    "Y = np.array(dataset[target_col])\n",
    "X = np.array(dataset[feature_cols])\n"
   ]
  },
  {
   "cell_type": "code",
   "execution_count": 6,
   "metadata": {},
   "outputs": [],
   "source": [
    "Y = np.array(dataset[target_col])\n",
    "X = np.array(dataset[feature_cols])"
   ]
  },
  {
   "cell_type": "code",
   "execution_count": 23,
   "metadata": {},
   "outputs": [],
   "source": [
    "# DataをTrain　: Test = 7　:　3に分ける\n",
    "X_train, X_test, Y_train, Y_test = train_test_split(X, Y, test_size=0.3, random_state=1234)\n",
    "X_train1, X_train2, Y_train1, Y_train2 = train_test_split(X_train, Y_train, test_size=0.3, random_state=1234)"
   ]
  },
  {
   "cell_type": "code",
   "execution_count": 8,
   "metadata": {},
   "outputs": [],
   "source": [
    "X_train, X_test, Y_train, Y_test = train_test_split(X,Y, test_size= 0.3, random_state= 1234)\n",
    "X_train1, Y_train2, Y_train1, Y_train2 = train_test_split(X_train, Y_train, test_size = 0.3, random_state=1234)"
   ]
  },
  {
   "cell_type": "markdown",
   "metadata": {},
   "source": [
    "<H2>4. アルゴリズムの選択 </H2>\n",
    "<p>回帰分析、決定木、ランダムフォレストを比較します</p>"
   ]
  },
  {
   "cell_type": "code",
   "execution_count": 9,
   "metadata": {},
   "outputs": [
    {
     "name": "stdout",
     "output_type": "stream",
     "text": [
      "LinerRegression MSE:  1569804095.5012155\n"
     ]
    }
   ],
   "source": [
    "# 回帰分析を実施しMSEを算出\n",
    "lm = LinearRegression()\n",
    "lm.fit(X_train1, Y_train1)\n",
    "Y_pred2 = lm.predict(X_train2)\n",
    "lm_mse = mean_squared_error(Y_train2, Y_pred2)\n",
    "print('LinerRegression MSE: ', lm_mse)"
   ]
  },
  {
   "cell_type": "code",
   "execution_count": 10,
   "metadata": {},
   "outputs": [
    {
     "name": "stdout",
     "output_type": "stream",
     "text": [
      "1569804095.5012155\n"
     ]
    }
   ],
   "source": [
    "lm = LinearRegression()\n",
    "lm.fit(X_train1, Y_train1)\n",
    "Y_pred2 = lm.predict(X_train2)\n",
    "lm_mse = mean_squared_error(Y_pred2,Y_train2)\n",
    "print(lm_mse)"
   ]
  },
  {
   "cell_type": "code",
   "execution_count": 11,
   "metadata": {},
   "outputs": [
    {
     "name": "stdout",
     "output_type": "stream",
     "text": [
      "DT MSE:  1792926691.8208468\n"
     ]
    }
   ],
   "source": [
    "#決定木を実行し、MSEを算出\n",
    "dt = DecisionTreeRegressor()\n",
    "dt.fit(X_train1, Y_train1)\n",
    "Y_pred2 = dt.predict(X_train2)\n",
    "dt_mse = mean_squared_error(Y_train2, Y_pred2)\n",
    "print('DT MSE: ', dt_mse)"
   ]
  },
  {
   "cell_type": "code",
   "execution_count": 12,
   "metadata": {},
   "outputs": [
    {
     "name": "stdout",
     "output_type": "stream",
     "text": [
      "1937539022.159609\n"
     ]
    }
   ],
   "source": [
    "dt = DecisionTreeRegressor()\n",
    "dt.fit(X_train1, Y_train1)\n",
    "Y_pred2 = dt.predict(X_train2)\n",
    "dt_mse = mean_squared_error(Y_pred2, Y_train2)\n",
    "print(dt_mse)"
   ]
  },
  {
   "cell_type": "code",
   "execution_count": 13,
   "metadata": {},
   "outputs": [
    {
     "name": "stdout",
     "output_type": "stream",
     "text": [
      "RandomForest MSE:  975084587.469381\n"
     ]
    }
   ],
   "source": [
    "# ランダムフォレストを実行し、MSEを算出\n",
    "rf = RandomForestRegressor(random_state=1234)\n",
    "rf.fit(X_train1, Y_train1)\n",
    "Y_pred2 = rf.predict(X_train2)\n",
    "rf_mse = mean_squared_error(Y_train2, Y_pred2)\n",
    "print('RandomForest MSE: ', rf_mse)"
   ]
  },
  {
   "cell_type": "code",
   "execution_count": 14,
   "metadata": {},
   "outputs": [
    {
     "name": "stdout",
     "output_type": "stream",
     "text": [
      "975084587.469381\n"
     ]
    }
   ],
   "source": [
    "rf = RandomForestRegressor(random_state=1234)\n",
    "rf.fit(X_train1, Y_train1)\n",
    "Y_pred2 = rf.predict(X_train2)\n",
    "rf_mse = mean_squared_error(Y_pred2, Y_train2)\n",
    "print(rf_mse)"
   ]
  },
  {
   "cell_type": "code",
   "execution_count": 15,
   "metadata": {},
   "outputs": [],
   "source": [
    "feature_indices = {feature: idx for idx, feature in enumerate(feature_cols)}\n",
    "\n",
    "last_mse = np.inf\n"
   ]
  },
  {
   "cell_type": "markdown",
   "metadata": {},
   "source": [
    "<H2>5. 変数の選択</H2>"
   ]
  },
  {
   "cell_type": "code",
   "execution_count": 16,
   "metadata": {},
   "outputs": [],
   "source": [
    "# 変数増加法を実行する関数\n",
    "def get_gfs_feature_indices(X, y, features, clf):\n",
    "    X_train_, X_test_, y_train_, y_test_ = train_test_split(X, y, test_size=0.3, random_state=1234)\n",
    "    feature_indices = {feature: idx for idx, feature in enumerate(features)}\n",
    "    features = set(features)\n",
    "    last_mse = np.inf\n",
    "    chosen_features = set()\n",
    "    while len(chosen_features) < len(features):\n",
    "        mse_features = []\n",
    "        for feature in (features - chosen_features):\n",
    "            candidates = chosen_features.union(set([feature]))\n",
    "            indices = [feature_indices[feature] for feature in candidates]\n",
    "            clf.fit(X_train_[:, indices], y_train_)\n",
    "            y_pred = clf.predict(X_test_[:, indices])\n",
    "            mse = mean_squared_error(y_test_, y_pred)\n",
    "            mse_features += [(mse, feature)]\n",
    "        mse, feature = min(mse_features)\n",
    "        if mse >= last_mse:\n",
    "            break\n",
    "        last_mse = mse\n",
    "        print('Newly Added Feature: {},\\tMSE Score: {}'.format(feature, mse))\n",
    "        chosen_features.add(feature)\n",
    "    return [feature_indices[feature] for feature in chosen_features]\n"
   ]
  },
  {
   "cell_type": "code",
   "execution_count": 17,
   "metadata": {},
   "outputs": [
    {
     "name": "stdout",
     "output_type": "stream",
     "text": [
      "Newly Added Feature: OverallQual,\tMSE Score: 2296281254.2751584\n",
      "Newly Added Feature: GrLivArea,\tMSE Score: 1674014637.3431904\n",
      "Newly Added Feature: 2ndFlrSF,\tMSE Score: 1259953539.285693\n",
      "Newly Added Feature: BsmtFinSF1,\tMSE Score: 1034701491.8032911\n",
      "Newly Added Feature: OverallCond,\tMSE Score: 945194113.4339496\n"
     ]
    },
    {
     "data": {
      "text/plain": [
       "[9, 2, 4, 10, 1]"
      ]
     },
     "execution_count": 17,
     "metadata": {},
     "output_type": "execute_result"
    }
   ],
   "source": [
    "# 上記関数を使用して変数増加法を実行し、MSEを算出\n",
    "selected_feature_index = \\\n",
    "get_gfs_feature_indices(X=X_train, \n",
    "                        y=Y_train, \n",
    "                        features=feature_cols, \n",
    "                        clf=RandomForestRegressor(random_state=1234))\n",
    "selected_feature_index"
   ]
  },
  {
   "cell_type": "markdown",
   "metadata": {},
   "source": [
    "<H2>6. ハイパーパラメータのチューニング</H2>"
   ]
  },
  {
   "cell_type": "code",
   "execution_count": 18,
   "metadata": {},
   "outputs": [
    {
     "name": "stdout",
     "output_type": "stream",
     "text": [
      "Fitting 3 folds for each of 9 candidates, totalling 27 fits\n"
     ]
    },
    {
     "name": "stderr",
     "output_type": "stream",
     "text": [
      "[Parallel(n_jobs=1)]: Done  27 out of  27 | elapsed:    2.1s finished\n"
     ]
    },
    {
     "data": {
      "text/plain": [
       "{'max_depth': 50, 'n_estimators': 50}"
      ]
     },
     "execution_count": 18,
     "metadata": {},
     "output_type": "execute_result"
    }
   ],
   "source": [
    "# 木の数：[10, 50, 100], 木の深さ:[5, 10, 50]でパラメータをチューニング\n",
    "rf = RandomForestRegressor(random_state=1234)\n",
    "params = {'n_estimators': [10, 50, 100], 'max_depth': [5, 50,100]}\n",
    "gscv = GridSearchCV(rf, param_grid=params, verbose=1,\n",
    "                    cv=3, scoring='neg_mean_squared_error')\n",
    "gscv.fit(X_train1[:, selected_feature_index], Y_train1)\n",
    "gscv.best_params_"
   ]
  },
  {
   "cell_type": "code",
   "execution_count": 19,
   "metadata": {},
   "outputs": [
    {
     "name": "stdout",
     "output_type": "stream",
     "text": [
      "RandomForest MSE:  938476192.7674497\n"
     ]
    }
   ],
   "source": [
    "# チューニング後のランダムフォレストで再びMSEを算出し、精度を確認\n",
    "rf = RandomForestRegressor(n_estimators=50, max_depth=50, random_state=1234)\n",
    "rf.fit(X_train1[:, selected_feature_index ], Y_train1)\n",
    "Y_pred2 = rf.predict(X_train2[:, selected_feature_index])\n",
    "rf_mse = mean_squared_error(Y_train2, Y_pred2)\n",
    "print('RandomForest MSE: ', rf_mse)"
   ]
  },
  {
   "cell_type": "markdown",
   "metadata": {},
   "source": [
    "<H2>7. モデルの評価</H2>"
   ]
  },
  {
   "cell_type": "code",
   "execution_count": 24,
   "metadata": {
    "scrolled": true
   },
   "outputs": [
    {
     "name": "stdout",
     "output_type": "stream",
     "text": [
      "RandomForest MSE:  911751462.7415535\n"
     ]
    }
   ],
   "source": [
    "# Test dataを用いてMSEを算出し、予測精度を確認\n",
    "rf = RandomForestRegressor(n_estimators=50, max_depth=50, random_state=1234)\n",
    "rf.fit(X_train[:, selected_feature_index], Y_train)\n",
    "Y_pred_on_test = rf.predict(X_test[:, selected_feature_index])\n",
    "rf_mse = mean_squared_error(Y_test, Y_pred_on_test)\n",
    "print('RandomForest MSE: ', rf_mse)"
   ]
  },
  {
   "cell_type": "code",
   "execution_count": 34,
   "metadata": {},
   "outputs": [
    {
     "data": {
      "text/plain": [
       "[9, 2, 4, 10, 1]"
      ]
     },
     "execution_count": 34,
     "metadata": {},
     "output_type": "execute_result"
    }
   ],
   "source": [
    "X_test[:, selected_feature_index]\n",
    "selected_feature_index"
   ]
  },
  {
   "cell_type": "markdown",
   "metadata": {},
   "source": [
    "<H2>8. エラー分析</H2>"
   ]
  },
  {
   "cell_type": "code",
   "execution_count": 21,
   "metadata": {},
   "outputs": [
    {
     "data": {
      "text/plain": [
       "<matplotlib.collections.PathCollection at 0x10876b320>"
      ]
     },
     "execution_count": 21,
     "metadata": {},
     "output_type": "execute_result"
    },
    {
     "data": {
      "image/png": "[encoded data removed]",
      "text/plain": [
       "<Figure size 432x288 with 1 Axes>"
      ]
     },
     "metadata": {},
     "output_type": "display_data"
    }
   ],
   "source": [
    "# 横軸：実際の成約価格、縦軸：予測した成約価格で散布図を作成し予測の誤差を確認\n",
    "plt.scatter(Y_test, Y_pred_on_test)\n"
   ]
  },
  {
   "cell_type": "code",
   "execution_count": 22,
   "metadata": {},
   "outputs": [
    {
     "name": "stdout",
     "output_type": "stream",
     "text": [
      "Mean:  -0.03299407787997008\n",
      "Std:  0.19755303273860392\n"
     ]
    },
    {
     "data": {
      "image/png": "[encoded data removed]",
      "text/plain": [
       "<Figure size 432x288 with 1 Axes>"
      ]
     },
     "metadata": {},
     "output_type": "display_data"
    }
   ],
   "source": [
    "# 実際の成約価格と予測価格の誤差率をヒストグラムで表示\n",
    "error_rate = (Y_test - Y_pred_on_test) / Y_test\n",
    "plt.hist(error_rate)\n",
    "print('Mean: ', np.mean(error_rate))\n",
    "print('Std: ', np.std(error_rate))\n"
   ]
  },
  {
   "cell_type": "code",
   "execution_count": null,
   "metadata": {},
   "outputs": [],
   "source": []
  }
 ],
 "metadata": {
  "anaconda-cloud": {},
  "kernelspec": {
   "display_name": "Python 3",
   "language": "python",
   "name": "python3"
  },
  "language_info": {
   "codemirror_mode": {
    "name": "ipython",
    "version": 3
   },
   "file_extension": ".py",
   "mimetype": "text/x-python",
   "name": "python",
   "nbconvert_exporter": "python",
   "pygments_lexer": "ipython3",
   "version": "3.6.6"
  }
 },
 "nbformat": 4,
 "nbformat_minor": 2
}
