{
 "cells": [
  {
   "cell_type": "markdown",
   "metadata": {},
   "source": [
    "<H2> 課題1: データ前処理の実習 </H2>\n",
    "<p>データの前処理は、データ分析の全行程のうち約8割を占める重要な工程です。</p>\n",
    "<p>この課題ではkaggleのcompetitionで使用されたデータを用いてデータの前処理方法を確認します。</p>\n",
    "<p>各列の詳細は下記サイトをご参照ください。</p>\n",
    "https://www.kaggle.com/c/house-prices-advanced-regression-techniques/data\n",
    "<p>2章で学んだ内容を踏まえ、各セルに入っているコメントを実行するコードを記入してください。</p>"
   ]
  },
  {
   "cell_type": "markdown",
   "metadata": {},
   "source": [
    "<H2>1. 必要なモジュールの読み込み"
   ]
  },
  {
   "cell_type": "code",
   "execution_count": 1,
   "metadata": {},
   "outputs": [],
   "source": [
    "% matplotlib inline\n",
    "\n",
    "from __future__ import print_function\n",
    "import copy\n",
    "import matplotlib\n",
    "import matplotlib.pyplot as plt\n",
    "import numpy as np\n",
    "import pandas as pd\n",
    "\n",
    "matplotlib.style.use('ggplot')"
   ]
  },
  {
   "cell_type": "markdown",
   "metadata": {},
   "source": [
    "<H2>2. データの読み込み</H2>\n",
    "<p>CSVファイル\"kaggle_housing_price.csv\"を読み込み、内容を確認します。</p>"
   ]
  },
  {
   "cell_type": "code",
   "execution_count": 2,
   "metadata": {},
   "outputs": [],
   "source": [
    "# データ読み込み\n"
   ]
  },
  {
   "cell_type": "code",
   "execution_count": 3,
   "metadata": {},
   "outputs": [],
   "source": [
    "# データを最初の5行だけ表示\n"
   ]
  },
  {
   "cell_type": "code",
   "execution_count": 4,
   "metadata": {},
   "outputs": [],
   "source": [
    "# データの行数、列数を表示\n"
   ]
  },
  {
   "cell_type": "markdown",
   "metadata": {},
   "source": [
    "<h2>3. 要約統計量を出力する</h2>\n",
    "<p> データ数、平均や中央値、標準偏差などの統計量を確認し、データへの理解を深めます。</p>"
   ]
  },
  {
   "cell_type": "code",
   "execution_count": 5,
   "metadata": {},
   "outputs": [],
   "source": [
    "# 要約統計量を表示\n"
   ]
  },
  {
   "cell_type": "markdown",
   "metadata": {},
   "source": [
    "<H2>4. 基本的なデータの操作</H2>"
   ]
  },
  {
   "cell_type": "markdown",
   "metadata": {},
   "source": [
    "データの抽出・列の分割について学びます。"
   ]
  },
  {
   "cell_type": "markdown",
   "metadata": {},
   "source": [
    "<h3> インデックスを用いた行の指定</h3>"
   ]
  },
  {
   "cell_type": "code",
   "execution_count": 6,
   "metadata": {},
   "outputs": [],
   "source": [
    "# インデックス番号0~10の行を抽出\n"
   ]
  },
  {
   "cell_type": "code",
   "execution_count": 7,
   "metadata": {},
   "outputs": [],
   "source": [
    "# \"SalePrice\"と\"LotArea\"の列を抽出し、最初の10行だけ表示\n"
   ]
  },
  {
   "cell_type": "markdown",
   "metadata": {},
   "source": [
    "<h3>カラム間の演算</h3>"
   ]
  },
  {
   "cell_type": "code",
   "execution_count": 8,
   "metadata": {},
   "outputs": [],
   "source": [
    "# \"1stFlrSF\"と\"2ndFlrSF\"を合計した\"FlrSF_total\"を新たな列として加える\n"
   ]
  },
  {
   "cell_type": "markdown",
   "metadata": {},
   "source": [
    "<h3>ダミー変数の作成</h3>\n",
    "<p> ダミー変数についてはテキストP.61を参照ください。</p>"
   ]
  },
  {
   "cell_type": "code",
   "execution_count": 9,
   "metadata": {},
   "outputs": [],
   "source": [
    "# 列'SaleType'をダミー変数に展開します。\n"
   ]
  },
  {
   "cell_type": "code",
   "execution_count": 10,
   "metadata": {},
   "outputs": [],
   "source": [
    "# ダミー変数が作成されていることを確認します　(datasetの最初の5行だけ出力)\n"
   ]
  },
  {
   "cell_type": "markdown",
   "metadata": {},
   "source": [
    "<h3>フィルタリング</h3>"
   ]
  },
  {
   "cell_type": "code",
   "execution_count": 11,
   "metadata": {},
   "outputs": [],
   "source": [
    "# 'YearBuilt'が2000以降の物件のみを抽出\n"
   ]
  },
  {
   "cell_type": "code",
   "execution_count": 12,
   "metadata": {},
   "outputs": [],
   "source": [
    "# 'YearBuilt'が2000以降、'GarageCars'が2以上の物件を抽出\n"
   ]
  },
  {
   "cell_type": "markdown",
   "metadata": {},
   "source": [
    "<h2>5. データの可視化</h2>"
   ]
  },
  {
   "cell_type": "markdown",
   "metadata": {},
   "source": [
    "データを理解するには要約統計量や抽出したデータを確認するだけでは不十分であり、可視化が必要です。"
   ]
  },
  {
   "cell_type": "markdown",
   "metadata": {},
   "source": [
    "<h3>ヒストグラム</h3>\n",
    "<p>連続変数の分布を確認する際に有効</p>"
   ]
  },
  {
   "cell_type": "code",
   "execution_count": 13,
   "metadata": {},
   "outputs": [],
   "source": [
    "# datasetの'SalePrice'をヒストグラムで表示\n"
   ]
  },
  {
   "cell_type": "markdown",
   "metadata": {},
   "source": [
    "<h3>散布図</h3>\n",
    "<p>2つの変数の関係性を確認する際に有効</p>"
   ]
  },
  {
   "cell_type": "code",
   "execution_count": 14,
   "metadata": {},
   "outputs": [],
   "source": [
    "# datasetの'LotArea'と'SalePrice'を散布図で表示\n"
   ]
  },
  {
   "cell_type": "markdown",
   "metadata": {},
   "source": [
    "<h3>棒グラフ</h3>"
   ]
  },
  {
   "cell_type": "markdown",
   "metadata": {},
   "source": [
    "大小や増減を比較する際に有効"
   ]
  },
  {
   "cell_type": "code",
   "execution_count": 15,
   "metadata": {},
   "outputs": [],
   "source": [
    "#datasetの'SaleCondition'ごとに、'SalePrice'の平均を棒グラフで表示\n"
   ]
  },
  {
   "cell_type": "markdown",
   "metadata": {},
   "source": [
    "<h3>箱ヒゲ図 (Boxplot) </h3>\n",
    "<p> 複数の変数の分布を比較する際に有効 （棒グラフでは平均の比較はできますが、分布全体の比較はできません)</p>"
   ]
  },
  {
   "cell_type": "code",
   "execution_count": 16,
   "metadata": {},
   "outputs": [],
   "source": [
    "# datasetの'SaleCondition'ごとに'SalePrice'をboxplotで表示\n"
   ]
  },
  {
   "cell_type": "markdown",
   "metadata": {},
   "source": [
    "<h2>6. 欠損値の確認</h2>\n",
    "<p> データに欠損値があると、演算でエラーが起きる場合があります。</p>\n",
    "<p>欠損値の扱いは欠損が発生した原因により異なります。（テキストP. 69参照　）<p>"
   ]
  },
  {
   "cell_type": "code",
   "execution_count": 17,
   "metadata": {},
   "outputs": [],
   "source": [
    "# 列ごとに欠損値の有無を確認\n"
   ]
  },
  {
   "cell_type": "code",
   "execution_count": null,
   "metadata": {},
   "outputs": [],
   "source": []
  }
 ],
 "metadata": {
  "anaconda-cloud": {},
  "kernelspec": {
   "display_name": "Python 3",
   "language": "python",
   "name": "python3"
  },
  "language_info": {
   "codemirror_mode": {
    "name": "ipython",
    "version": 3
   },
   "file_extension": ".py",
   "mimetype": "text/x-python",
   "name": "python",
   "nbconvert_exporter": "python",
   "pygments_lexer": "ipython3",
   "version": "3.6.5"
  }
 },
 "nbformat": 4,
 "nbformat_minor": 1
}
